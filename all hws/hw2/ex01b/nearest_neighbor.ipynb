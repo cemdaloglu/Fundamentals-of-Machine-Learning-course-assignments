{
 "cells": [
  {
   "cell_type": "markdown",
   "metadata": {
    "id": "tA1zthfsHEZC"
   },
   "source": [
    "Notebook created by Cem Daloglu & Enisa Sabo & Xin Wang \n",
    "\n",
    "\n",
    "Ullrich Köthe: Fundamentals of Machine Learning, Winter Semester 2021/22\n",
    "\n",
    "---\n",
    "\n"
   ]
  },
  {
   "cell_type": "code",
   "execution_count": 2,
   "metadata": {
    "id": "NIjj9aKTi1M3"
   },
   "outputs": [],
   "source": [
    "import matplotlib.pyplot as plt\n",
    "import numpy as np\n",
    "from sklearn.datasets import load_digits\n",
    "from sklearn.neighbors import KNeighborsClassifier\n",
    "import time"
   ]
  },
  {
   "cell_type": "markdown",
   "metadata": {
    "id": "nMW1qfkxiibU"
   },
   "source": [
    "# **1 Nearest Neighbor Classification on Real Data**\n",
    "\n",
    "# 1.1 Exploring the Data"
   ]
  },
  {
   "cell_type": "code",
   "execution_count": 3,
   "metadata": {
    "colab": {
     "base_uri": "https://localhost:8080/"
    },
    "id": "zrzrH3V819PU",
    "outputId": "79c47412-c079-46e8-db00-0ceed1cf5606"
   },
   "outputs": [
    {
     "name": "stdout",
     "output_type": "stream",
     "text": [
      "dict_keys(['data', 'target', 'frame', 'feature_names', 'target_names', 'images', 'DESCR'])\n",
      "float64\n"
     ]
    }
   ],
   "source": [
    "digits = load_digits ()\n",
    "print (digits . keys ())\n",
    "data = digits [\"data\"]\n",
    "images = digits [\"images\"]\n",
    "target = digits [\"target\"]\n",
    "target_names = digits [\"target_names\"]\n",
    "print (data.dtype)\n"
   ]
  },
  {
   "cell_type": "code",
   "execution_count": 4,
   "metadata": {
    "colab": {
     "base_uri": "https://localhost:8080/"
    },
    "id": "JTxt-4ZXJnk8",
    "outputId": "72938be4-8b9b-4533-edd5-93543ad35606"
   },
   "outputs": [
    {
     "name": "stdout",
     "output_type": "stream",
     "text": [
      "(1797, 8, 8)\n"
     ]
    }
   ],
   "source": [
    "print(images.shape)"
   ]
  },
  {
   "cell_type": "code",
   "execution_count": 5,
   "metadata": {
    "colab": {
     "base_uri": "https://localhost:8080/",
     "height": 217
    },
    "id": "pKbhGNThKJMp",
    "outputId": "91c718b4-8e6c-4c64-d18e-74a330a4a0bb"
   },
   "outputs": [
    {
     "data": {
      "text/plain": [
       "<Figure size 432x288 with 0 Axes>"
      ]
     },
     "metadata": {},
     "output_type": "display_data"
    },
    {
     "data": {
      "image/png": "[encoded data removed]",
      "text/plain": [
       "<Figure size 432x288 with 2 Axes>"
      ]
     },
     "metadata": {
      "needs_background": "light"
     },
     "output_type": "display_data"
    }
   ],
   "source": [
    "img = images[0]\n",
    "assert 2 == len(img.shape)\n",
    "plt.figure ()\n",
    "plt.gray ()\n",
    "f, axarr = plt.subplots(1,2)\n",
    "axarr[0].imshow(img, interpolation =\"nearest\" )\n",
    "axarr[1].imshow(img, interpolation =\"bicubic\")\n",
    "plt.show ()"
   ]
  },
  {
   "cell_type": "code",
   "execution_count": 6,
   "metadata": {
    "colab": {
     "base_uri": "https://localhost:8080/"
    },
    "id": "kosZeJnwNFEJ",
    "outputId": "f5de66cf-4136-42b6-c09f-b2cba7006394"
   },
   "outputs": [
    {
     "name": "stdout",
     "output_type": "stream",
     "text": [
      "(1078, 64) (719, 64) (1078,) (719,)\n"
     ]
    }
   ],
   "source": [
    "from sklearn import model_selection\n",
    "X_all = data\n",
    "y_all = target\n",
    "X_train , X_test , y_train , y_test = model_selection.train_test_split(digits.data, digits.target, test_size = 0.4, random_state = 0)\n",
    "print(X_train.shape, X_test.shape, y_train.shape, y_test.shape)"
   ]
  },
  {
   "cell_type": "markdown",
   "metadata": {
    "id": "0-S0SSFzQBXG"
   },
   "source": [
    "# 1.2 Distance function computation using loops"
   ]
  },
  {
   "cell_type": "code",
   "execution_count": 7,
   "metadata": {
    "id": "0oTivW8YN6Rt"
   },
   "outputs": [],
   "source": [
    "def dist_loop(training, test):\n",
    "  dist_mat = np.zeros([len(training), len(test)])\n",
    "  for n in range(len(training)):\n",
    "    for m in range(len(test)):\n",
    "      dist_mat[n][m] = np.sqrt(np.sum(np.square(training[n] - test[m])))\n",
    "  return dist_mat"
   ]
  },
  {
   "cell_type": "code",
   "execution_count": 8,
   "metadata": {
    "colab": {
     "base_uri": "https://localhost:8080/"
    },
    "id": "QZV201TtSlcv",
    "outputId": "e644b8ae-4dab-429c-d317-fec7caf4e905"
   },
   "outputs": [
    {
     "name": "stdout",
     "output_type": "stream",
     "text": [
      "(1078, 719)\n"
     ]
    }
   ],
   "source": [
    "check = dist_loop(X_train,X_test)\n",
    "print(check.shape)"
   ]
  },
  {
   "cell_type": "markdown",
   "metadata": {
    "id": "4Fc5fslrHzXM"
   },
   "source": [
    "# 1.3 Distance function computation using vectorization"
   ]
  },
  {
   "cell_type": "code",
   "execution_count": 9,
   "metadata": {
    "id": "-HYzfe6HmLfw"
   },
   "outputs": [],
   "source": [
    "def dist_vec(training, test):\n",
    "  dist_mat = np.zeros([len(training), len(test)])\n",
    "  trans_test = test.T\n",
    "  mult_sets = -2 * (training @ trans_test)\n",
    "  train_arr = np.sum(np.full((training.shape), np.square(training)), axis=1)\n",
    "  test_arr = np.sum(np.full((test.shape), np.square(test)), axis=1)\n",
    "  train_arr = np.resize(train_arr, mult_sets.T.shape).T\n",
    "  test_arr = np.resize(test_arr, mult_sets.shape)\n",
    "  dist_mat = np.sqrt(train_arr + test_arr + mult_sets)\n",
    "  return dist_mat"
   ]
  },
  {
   "cell_type": "code",
   "execution_count": 10,
   "metadata": {
    "colab": {
     "base_uri": "https://localhost:8080/"
    },
    "id": "aab6jF6ecv43",
    "outputId": "4e68f51d-466c-4d11-badc-cf5fc1eef05d"
   },
   "outputs": [
    {
     "name": "stdout",
     "output_type": "stream",
     "text": [
      "[[ True  True  True ...  True  True  True]\n",
      " [ True  True  True ...  True  True  True]\n",
      " [ True  True  True ...  True  True  True]\n",
      " ...\n",
      " [ True  True  True ...  True  True  True]\n",
      " [ True  True  True ...  True  True  True]\n",
      " [ True  True  True ...  True  True  True]]\n"
     ]
    }
   ],
   "source": [
    "check_vector = dist_vec(X_train,X_test)\n",
    "print(check == check_vector)"
   ]
  },
  {
   "cell_type": "code",
   "execution_count": 11,
   "metadata": {
    "colab": {
     "base_uri": "https://localhost:8080/"
    },
    "id": "VL92l1BcqlhT",
    "outputId": "57fbc0e3-bf07-4735-90c8-dafd90251481"
   },
   "outputs": [
    {
     "name": "stdout",
     "output_type": "stream",
     "text": [
      "Run time vectorized:\n",
      "20.6 ms ± 1.51 ms per loop (mean ± std. dev. of 7 runs, 10 loops each)\n",
      "Run time loop:\n",
      "6.4 s ± 156 ms per loop (mean ± std. dev. of 7 runs, 1 loop each)\n"
     ]
    }
   ],
   "source": [
    "print(\"Run time vectorized:\")\n",
    "%timeit dist_vec(X_train,X_test)\n",
    "print(\"Run time loop:\")\n",
    "%timeit dist_loop(X_train,X_test)"
   ]
  },
  {
   "cell_type": "markdown",
   "metadata": {
    "id": "ZGnaaMFLH39w"
   },
   "source": [
    "# 1.4 Implement the k-nearest neighbor classifier"
   ]
  },
  {
   "cell_type": "code",
   "execution_count": 12,
   "metadata": {
    "id": "vDCLACnQH_nK"
   },
   "outputs": [],
   "source": [
    "def nn_classifier(k, train_data, train_label, test_data):\n",
    "    euc_dist = dist_vec(train_data, test_data).T\n",
    "    idx = np.argpartition(euc_dist[0], k)\n",
    "    labels = train_label[idx[:k]]\n",
    "    return np.bincount(labels).argmax()"
   ]
  },
  {
   "cell_type": "code",
   "execution_count": 13,
   "metadata": {
    "id": "qCcUaS2D4aJD"
   },
   "outputs": [],
   "source": [
    "X_test_3 = X_test[np.argwhere(y_test == 3)]\n",
    "X_train_3 = X_train[np.argwhere(y_train == 3)]\n",
    "X_train_3.reshape((len(X_train_3), 64))\n",
    "y_train_3 = y_train[np.argwhere(y_train == 3)]\n",
    "y_test_3 = y_test[np.argwhere(y_test == 3)]\n",
    "\n",
    "X_test_9 = X_test[np.argwhere(y_test == 9)]\n",
    "X_train_9 = X_train[np.argwhere(y_train == 9)]\n",
    "X_train_9.reshape((len(X_train_9), 64))\n",
    "y_train_9 = y_train[np.argwhere(y_train == 9)]\n",
    "y_test_9 = y_test[np.argwhere(y_test == 9)]\n",
    "\n",
    "X_train_3_9 = np.append(X_train_3, X_train_9).reshape((len(X_train_3)+len(X_train_9), 64))\n",
    "y_train_3_9 = np.append(y_train_3, y_train_9).astype(int)"
   ]
  },
  {
   "cell_type": "code",
   "execution_count": 14,
   "metadata": {
    "id": "FfSuTuXO4cVR"
   },
   "outputs": [],
   "source": [
    "def error_rate(k, train_data, train_label, test_data, test_label):\n",
    "  count = 0\n",
    "  for i in range(len(test_data)):\n",
    "    if nn_classifier(k, train_data, train_label, test_data[i]) != test_label[i]:\n",
    "      count += 1\n",
    "  return [count / len(test_data)]"
   ]
  },
  {
   "cell_type": "code",
   "execution_count": 15,
   "metadata": {
    "colab": {
     "base_uri": "https://localhost:8080/",
     "height": 295
    },
    "id": "PMngeMSn4its",
    "outputId": "42aa8ea2-ec87-4d16-85b1-1de3703f4195"
   },
   "outputs": [
    {
     "data": {
      "image/png": "[encoded data removed]",
      "text/plain": [
       "<Figure size 432x288 with 1 Axes>"
      ]
     },
     "metadata": {
      "needs_background": "light"
     },
     "output_type": "display_data"
    }
   ],
   "source": [
    "k = [1, 3, 5, 9, 17, 33]\n",
    "error_3 = []\n",
    "error_9 = []\n",
    "\n",
    "for i in k:\n",
    "  error_3.append(error_rate(i, X_train_3_9, y_train_3_9, X_test_3, y_test_3))\n",
    "  error_9.append(error_rate(i, X_train_3_9, y_train_3_9, X_test_9, y_test_9))\n",
    "\n",
    "plt.title(\"Error rates\")\n",
    "plt.errorbar(k, error_3, label=\"3\")\n",
    "plt.errorbar(k, error_9, label=\"9\")\n",
    "plt.xlabel(\"k\")\n",
    "plt.ylabel(\"error rate\")\n",
    "plt.legend()\n",
    "plt.show()"
   ]
  },
  {
   "cell_type": "markdown",
   "metadata": {
    "id": "XSCJUaxPDzWA"
   },
   "source": [
    "As k (number of neigbhors) increases error rate is also increased for \"3\". However, error rate is decreased until k = 17 for digit \"9\". We can say that too much neighbor increases the error and error rate is dependent to digit. By only looking at the above plot, best possible k can be approximately 12 or 13."
   ]
  },
  {
   "cell_type": "markdown",
   "metadata": {
    "id": "SAFr62QDIBHM"
   },
   "source": [
    "# 2 Cross-validation"
   ]
  },
  {
   "cell_type": "code",
   "execution_count": 16,
   "metadata": {
    "id": "lG5-G1m9IF6D"
   },
   "outputs": [],
   "source": [
    "def split_folds(data, target, L):\n",
    "    X_folds = []\n",
    "    Y_folds = []\n",
    "    permutations = np.array_split(np.random.permutation(np.shape(data)[0]),L)\n",
    "    \n",
    "    for i in permutations:\n",
    "        X_folds.append(data[i])\n",
    "        Y_folds.append(target[i])\n",
    "\n",
    "    return X_folds, Y_folds"
   ]
  },
  {
   "cell_type": "code",
   "execution_count": 17,
   "metadata": {
    "id": "ckZCX6gYxn2F"
   },
   "outputs": [],
   "source": [
    "def splitter(i, X_folds, Y_folds):\n",
    "  index = np.zeros(len(X_folds)+1, int)\n",
    "  for ind in range(len(X_folds)-1):\n",
    "    shallow_x = np.array([*X_folds[ind], *X_folds[ind+1]])\n",
    "    shallow_y = np.array([*Y_folds[ind], *Y_folds[ind+1]])\n",
    "    index[ind+1] = len(X_folds[ind])\n",
    "  index[len(index)-1] = len(shallow_x)\n",
    "  \n",
    "  X_test = X_folds[i]\n",
    "  y_test = Y_folds[i]\n",
    "  X_test = np.reshape(X_test, (len(X_test), 1, 64))\n",
    "  \n",
    "  X_train = np.array([*shallow_x[:index[i]], *shallow_x[index[i+1]:]])\n",
    "  y_train = np.array([*shallow_y[:index[i]], *shallow_y[index[i+1]:]])\n",
    "  return X_train, y_train, X_test, y_test"
   ]
  },
  {
   "cell_type": "code",
   "execution_count": 18,
   "metadata": {
    "id": "84qeed4AKlFp"
   },
   "outputs": [],
   "source": [
    "k = [1, 17]\n",
    "L = [2, 5, 10]\n",
    "error_k = []\n",
    "std_k = []\n",
    "error_L = []\n",
    "error_j = []\n",
    "std_j = []\n",
    "\n",
    "start_knn = time.time()\n",
    "\n",
    "for i in k:\n",
    "  error_L = []\n",
    "  for j in L:\n",
    "    X_folds, Y_folds = split_folds(data, target, j)\n",
    "    error_j = []\n",
    "    for x in range(j):\n",
    "      X_train, y_train, X_test, y_test = splitter(x, X_folds, Y_folds)\n",
    "\n",
    "      error_j.append(error_rate(i, X_train, y_train, X_test, y_test))\n",
    "    std_j.append([np.std(error_j)])\n",
    "    error_L.append([np.average(error_j)])\n",
    "  error_k.append(error_L)\n",
    "  std_k.append(std_j)\n",
    "end_knn = time.time()"
   ]
  },
  {
   "cell_type": "code",
   "execution_count": 19,
   "metadata": {
    "id": "pH11kae3S0NY"
   },
   "outputs": [],
   "source": [
    "def plotter(error_k, std_k):\n",
    "  error_k1_L2 = error_k[0][0]\n",
    "  error_k1_L5 = error_k[0][1]\n",
    "  error_k1_L10 = error_k[0][2]\n",
    "  error_k17_L2 = error_k[1][0]\n",
    "  error_k17_L5 = error_k[1][1]\n",
    "  error_k17_L10 = error_k[1][2]\n",
    "\n",
    "  plt.title(\"Error rates\")\n",
    "  plt.xlabel(\"L\")\n",
    "  plt.ylabel(\"error rate\")\n",
    "  plt.plot(L, [*error_k1_L2, *error_k1_L5, *error_k1_L10], label=\"k=1\")\n",
    "  plt.plot(L, [*error_k17_L2, *error_k17_L5, *error_k17_L10], label=\"k=17\")\n",
    "  plt.legend()\n",
    "\n",
    "  std_k1_L2 = std_k[0][0]\n",
    "  std_k1_L5 = std_k[0][1]\n",
    "  std_k1_L10 = std_k[0][2]\n",
    "  std_k17_L2 = std_k[1][0]\n",
    "  std_k17_L5 = std_k[1][1]\n",
    "  std_k17_L10 = std_k[1][2]\n",
    "  print(\"standard deviation of k=1, L=2\", std_k1_L2)\n",
    "  print(\"standard deviation of k=1, L=5\", std_k1_L5)\n",
    "  print(\"standard deviation of k=1, L=10\", std_k1_L10)\n",
    "  print(\"standard deviation of k=17, L=2\", std_k17_L2)\n",
    "  print(\"standard deviation of k=17, L=5\", std_k17_L5)\n",
    "  print(\"standard deviation of k=17, L=10\", std_k17_L10)"
   ]
  },
  {
   "cell_type": "code",
   "execution_count": 20,
   "metadata": {
    "colab": {
     "base_uri": "https://localhost:8080/",
     "height": 396
    },
    "id": "aBmpJSMF9WC1",
    "outputId": "7b0c61e6-5c58-4a94-a509-6ffc04e132b2"
   },
   "outputs": [
    {
     "name": "stdout",
     "output_type": "stream",
     "text": [
      "standard deviation of k=1, L=2 [1.0528897488176758e-05]\n",
      "standard deviation of k=1, L=5 [0.01840648348605842]\n",
      "standard deviation of k=1, L=10 [0.021958016986549967]\n",
      "standard deviation of k=17, L=2 [1.0528897488176758e-05]\n",
      "standard deviation of k=17, L=5 [0.01840648348605842]\n",
      "standard deviation of k=17, L=10 [0.021958016986549967]\n"
     ]
    },
    {
     "data": {
      "image/png": "[encoded data removed]",
      "text/plain": [
       "<Figure size 432x288 with 1 Axes>"
      ]
     },
     "metadata": {
      "needs_background": "light"
     },
     "output_type": "display_data"
    }
   ],
   "source": [
    "plotter(error_k, std_k)"
   ]
  },
  {
   "cell_type": "code",
   "execution_count": 21,
   "metadata": {
    "id": "pVdXb4sg5RwJ"
   },
   "outputs": [],
   "source": [
    "def error_rate_sklearn(test_label,y_test):\n",
    "    error = 0\n",
    "    for i in range(test_label.shape[0]):\n",
    "        if test_label[i]!=y_test[i]:\n",
    "            error += 1\n",
    "    return error/(len(test_label))"
   ]
  },
  {
   "cell_type": "code",
   "execution_count": 22,
   "metadata": {
    "id": "sClEVJT1_1W3"
   },
   "outputs": [],
   "source": [
    "k = [1, 17]\n",
    "L = [2, 5, 10]\n",
    "result_j = []\n",
    "result_L = []\n",
    "result_k = []\n",
    "std_j = []\n",
    "std_k = []\n",
    "\n",
    "start_sklearn = time.time()\n",
    "\n",
    "for i in k:\n",
    "  result_L = []\n",
    "  for j in L:\n",
    "    X_folds, Y_folds = split_folds(data, target, j)\n",
    "    result_j = []\n",
    "    for x in range(j):\n",
    "      X_train, y_train, X_test, y_test = splitter(x, X_folds, Y_folds)\n",
    "\n",
    "      X_test = np.reshape(X_test, (len(X_test), 64))\n",
    "      neigh = KNeighborsClassifier(n_neighbors=i)\n",
    "      neigh.fit(X_train, y_train)\n",
    "      test_label = neigh.predict(X_test)\n",
    "      result_j.append(error_rate_sklearn(test_label, y_test))\n",
    "    std_j.append([np.std(result_j)])\n",
    "    result_L.append([np.average(result_j)])\n",
    "  result_k.append(result_L)\n",
    "  std_k.append(std_j)\n",
    "end_sklearn = time.time()"
   ]
  },
  {
   "cell_type": "code",
   "execution_count": 23,
   "metadata": {
    "colab": {
     "base_uri": "https://localhost:8080/",
     "height": 396
    },
    "id": "8wcVF47z1flM",
    "outputId": "b287d6df-07f6-41e1-b15d-1bcde1139354"
   },
   "outputs": [
    {
     "name": "stdout",
     "output_type": "stream",
     "text": [
      "standard deviation of k=1, L=2 [0.002793254568922163]\n",
      "standard deviation of k=1, L=5 [0.013380219289381427]\n",
      "standard deviation of k=1, L=10 [0.02016804315366065]\n",
      "standard deviation of k=17, L=2 [0.002793254568922163]\n",
      "standard deviation of k=17, L=5 [0.013380219289381427]\n",
      "standard deviation of k=17, L=10 [0.02016804315366065]\n"
     ]
    },
    {
     "data": {
      "image/png": "[encoded data removed]",
      "text/plain": [
       "<Figure size 432x288 with 1 Axes>"
      ]
     },
     "metadata": {
      "needs_background": "light"
     },
     "output_type": "display_data"
    }
   ],
   "source": [
    "plotter(result_k, std_k)"
   ]
  },
  {
   "cell_type": "code",
   "execution_count": 24,
   "metadata": {
    "colab": {
     "base_uri": "https://localhost:8080/"
    },
    "id": "l3o7BJLN1lop",
    "outputId": "f1a53a96-f11d-4d90-dd72-b74a46e3f64b"
   },
   "outputs": [
    {
     "name": "stdout",
     "output_type": "stream",
     "text": [
      "Run time sklearn: 0.5207424163818359 seconds\n",
      "Run time knn_first_part: 5.461919069290161 seconds\n"
     ]
    }
   ],
   "source": [
    "print(\"Run time sklearn:\", (end_sklearn - start_sklearn), \"seconds\")\n",
    "print(\"Run time knn_first_part:\", (end_knn - start_knn), \"seconds\")"
   ]
  },
  {
   "cell_type": "markdown",
   "metadata": {
    "id": "KAL8hYoc-nKq"
   },
   "source": [
    "As it can be seen in the above results, performance of the predefined solution is much faster than our solution. As L increases the error rate also increases. Therefore, it can be generalized that smaller L are better than larger L values in terms of error rate."
   ]
  }
 ],
 "metadata": {
  "colab": {
   "collapsed_sections": [],
   "name": "nearest-neighbor.ipynb",
   "provenance": []
  },
  "kernelspec": {
   "display_name": "Python 3",
   "language": "python",
   "name": "python3"
  },
  "language_info": {
   "codemirror_mode": {
    "name": "ipython",
    "version": 3
   },
   "file_extension": ".py",
   "mimetype": "text/x-python",
   "name": "python",
   "nbconvert_exporter": "python",
   "pygments_lexer": "ipython3",
   "version": "3.8.5"
  }
 },
 "nbformat": 4,
 "nbformat_minor": 1
}
