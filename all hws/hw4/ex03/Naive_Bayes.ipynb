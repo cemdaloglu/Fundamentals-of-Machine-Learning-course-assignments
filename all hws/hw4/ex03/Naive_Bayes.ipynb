{
 "cells": [
  {
   "cell_type": "markdown",
   "metadata": {
    "id": "-YwnVmZUuZTP"
   },
   "source": [
    "# **2 Naive Bayes Classifier**"
   ]
  },
  {
   "cell_type": "markdown",
   "metadata": {},
   "source": [
    "This part of the homework is done by Cem Daloglu only."
   ]
  },
  {
   "cell_type": "code",
   "execution_count": 69,
   "metadata": {
    "id": "gQl0xCkTIK2_"
   },
   "outputs": [],
   "source": [
    "%matplotlib inline\n",
    "import numpy as np\n",
    "import matplotlib.pyplot as plt\n",
    "from sklearn import datasets \n",
    "from sklearn.datasets import load_digits\n",
    "from sklearn.model_selection import train_test_split, cross_val_score\n",
    "from IPython.display import Image"
   ]
  },
  {
   "cell_type": "code",
   "execution_count": 70,
   "metadata": {
    "colab": {
     "base_uri": "https://localhost:8080/"
    },
    "id": "xtOvhjyfdqwb",
    "outputId": "596d354f-cd96-4689-c2df-50110ea2ddcd"
   },
   "outputs": [],
   "source": [
    "digits = load_digits ()\n",
    "data = digits [\"data\"]\n",
    "images = digits [\"images\"]\n",
    "target = digits [\"target\"]\n",
    "target_names = digits [\"target_names\"]"
   ]
  },
  {
   "cell_type": "code",
   "execution_count": 71,
   "metadata": {
    "id": "DqhZNZfrf2dM"
   },
   "outputs": [],
   "source": [
    "from sklearn import model_selection\n",
    "X_all = data\n",
    "y_all = target\n",
    "X_train , X_test , y_train , y_test = model_selection.train_test_split(digits.data, digits.target, test_size = 0.4, random_state = 0)"
   ]
  },
  {
   "cell_type": "code",
   "execution_count": 72,
   "metadata": {
    "id": "dVjJNRT4f77Y"
   },
   "outputs": [],
   "source": [
    "X_test_3 = X_test[np.argwhere(y_test == 3)]\n",
    "X_train_3 = X_train[np.argwhere(y_train == 3)]\n",
    "X_train_3.reshape((len(X_train_3), 64))\n",
    "y_train_3 = y_train[np.argwhere(y_train == 3)]\n",
    "y_test_3 = y_test[np.argwhere(y_test == 3)]\n",
    "\n",
    "X_test_9 = X_test[np.argwhere(y_test == 9)]\n",
    "X_train_9 = X_train[np.argwhere(y_train == 9)]\n",
    "X_train_9.reshape((len(X_train_9), 64))\n",
    "y_train_9 = y_train[np.argwhere(y_train == 9)]\n",
    "y_test_9 = y_test[np.argwhere(y_test == 9)]\n",
    "\n",
    "X_train_3_9 = np.append(X_train_3, X_train_9).reshape((len(X_train_3)+len(X_train_9), 64))\n",
    "y_train_3_9 = np.append(y_train_3, y_train_9).astype(int)\n",
    "\n",
    "X_test_3_9 = np.append(X_test_3, X_test_9).reshape((len(X_test_3)+len(X_test_9), 64))\n",
    "y_test_3_9 = np.append(y_test_3, y_test_9).astype(int)"
   ]
  },
  {
   "cell_type": "code",
   "execution_count": 73,
   "metadata": {
    "id": "_HhhhirpgELD"
   },
   "outputs": [],
   "source": [
    "def reduce_dim(x):\n",
    "  # average features\n",
    "  first_row = np.zeros((7,8))\n",
    "  first_row = np.insert(first_row, 0, 1, axis=0)\n",
    "  fourth_column = np.zeros((8,7))\n",
    "  fourth_column = np.insert(fourth_column, 4, 1, axis=1)\n",
    "\n",
    "  first_row = np.reshape(first_row, (64, 1))\n",
    "  fourth_column = np.reshape(fourth_column, (64, 1))\n",
    "\n",
    "  output = x @ first_row\n",
    "  output = np.concatenate((output, x @ fourth_column), axis=1)\n",
    "  return output"
   ]
  },
  {
   "cell_type": "code",
   "execution_count": 74,
   "metadata": {
    "id": "Lb1U1EqhgGZF"
   },
   "outputs": [],
   "source": [
    "reduced_x_test = reduce_dim(X_test_3_9)\n",
    "reduced_x_train_3_9 = reduce_dim(X_train_3_9)"
   ]
  },
  {
   "cell_type": "code",
   "execution_count": 75,
   "metadata": {
    "id": "Vmn1f5RjiOM_"
   },
   "outputs": [],
   "source": [
    "def fit_naive_bayes(features, labels, bincount=0):\n",
    "  if(bincount == 0):\n",
    "    reduced_x_train_3 = np.reshape(features[np.argwhere(labels == 3)], (-1, 2))\n",
    "    reduced_x_train_9 = np.reshape(features[np.argwhere(labels == 9)], (-1, 2))\n",
    "    reduced_arr = [reduced_x_train_3[:, 0], reduced_x_train_3[:, 1], reduced_x_train_9[:, 0], reduced_x_train_9[:, 1]]\n",
    "    reduced_arr = np.reshape(reduced_arr, (2, 2))\n",
    "\n",
    "    bin_edges1_3 = np.histogram_bin_edges(reduced_x_train_3[:, 0], bins='fd')\n",
    "    bin_edges2_3 = np.histogram_bin_edges(reduced_x_train_3[:, 1], bins='fd')\n",
    "    bin_edges1_9 = np.histogram_bin_edges(reduced_x_train_9[:, 0], bins='fd')\n",
    "    bin_edges2_9 = np.histogram_bin_edges(reduced_x_train_9[:, 1], bins='fd')\n",
    "\n",
    "    bin_count1_3 = len(bin_edges1_3) - 1\n",
    "    bin_count2_3 = len(bin_edges2_3) - 1\n",
    "    bin_count1_9 = len(bin_edges1_9) - 1\n",
    "    bin_count2_9 = len(bin_edges2_9) - 1\n",
    "\n",
    "    L = np.max([bin_count1_3, bin_count2_3, bin_count1_9, bin_count2_9])\n",
    "    bin_count_arr = [bin_count1_3, bin_count2_3, bin_count1_9, bin_count2_9]\n",
    "    edge_arr = [bin_edges1_3, bin_edges2_3, bin_edges1_9, bin_edges2_9]\n",
    "    bin_width_arr = [bin_edges1_3[1] - bin_edges1_3[0], bin_edges2_3[1] - bin_edges2_3[0], bin_edges1_9[1] - bin_edges1_9[0], bin_edges2_9[1] - bin_edges2_9[0]]\n",
    "\n",
    "    for i in range(len(edge_arr)):\n",
    "      max_ind = np.argmax(bin_count_arr)\n",
    "      if(i != max_ind):\n",
    "        edge_arr[i] = np.pad(edge_arr[i], (0, L - bin_count_arr[i]))\n",
    "\n",
    "    binning = np.zeros((2, 2, 2))\n",
    "    edge_arr = np.reshape(edge_arr, (2, 2, -1))\n",
    "    bin_width_arr = np.reshape(bin_width_arr, (2, 2))\n",
    "    for x in range(len(binning)):\n",
    "      for y in range(len(binning[0])):\n",
    "        binning[x][y][0] = edge_arr[x][y][0]\n",
    "        binning[x][y][1] = bin_width_arr[x][y]\n",
    "    \n",
    "    histograms = np.zeros((2, 2, L))\n",
    "    bin_count_arr = np.reshape(bin_count_arr, (2, 2))\n",
    "    for k in range(2):\n",
    "      for j in range(2):\n",
    "        for y in range(bin_count_arr[k][j]):\n",
    "          count = 0\n",
    "          for x in range(len(reduced_arr[k, j])):\n",
    "            if(edge_arr[k][j][y] < reduced_arr[k, j][x] <= edge_arr[k][j][y+1]):\n",
    "              count += 1\n",
    "          histograms[k][j][y] = count\n",
    "    histograms = histograms / len(labels)\n",
    "  else:\n",
    "    feat_no = len(features[0])\n",
    "    reduced_x_train_3 = np.reshape(features[np.argwhere(labels == 3)], (-1, feat_no))\n",
    "    reduced_x_train_9 = np.reshape(features[np.argwhere(labels == 9)], (-1, feat_no))\n",
    "\n",
    "    edge_arr = np.empty((2, feat_no, bincount + 1))\n",
    "    bin_width_arr = np.empty((2, feat_no))\n",
    "    reduced_arr = []\n",
    "    reduced_arr1 = []\n",
    "    for i in range(feat_no):\n",
    "      hist3, bin_edges3 = np.histogram(reduced_x_train_3[:, i], bins=bincount)\n",
    "      hist9, bin_edges9 = np.histogram(reduced_x_train_9[:, i], bins=bincount)\n",
    "      edge_arr[0, i] = bin_edges3\n",
    "      edge_arr[1, i] = bin_edges9\n",
    "      bin_width_arr[0, i] = bin_edges3[1] - bin_edges3[0]\n",
    "      bin_width_arr[1, i] = bin_edges9[1] - bin_edges9[0]\n",
    "      reduced_arr.append([reduced_x_train_3[:, i]])\n",
    "      reduced_arr1.append([reduced_x_train_9[:, i]])\n",
    "    for i in range(feat_no):\n",
    "      reduced_arr.append(reduced_arr1[i])\n",
    "    reduced_arr = np.reshape(np.array(reduced_arr), (2, feat_no))    \n",
    "  \n",
    "    L = bincount\n",
    "    binning = np.zeros((2, feat_no, 2))\n",
    "\n",
    "    for x in range(len(binning)):\n",
    "      for y in range(len(binning[0])):\n",
    "        binning[x][y][0] = edge_arr[x][y][0]\n",
    "        binning[x][y][1] = bin_width_arr[x][y]\n",
    "    \n",
    "    histograms = np.zeros((2, feat_no, L))\n",
    "    for k in range(2):\n",
    "      for j in range(feat_no):\n",
    "        for y in range(bincount):\n",
    "          count = 0\n",
    "          for x in range(len(reduced_arr[k, j])):\n",
    "            if(edge_arr[k][j][y] < reduced_arr[k, j][x] <= edge_arr[k][j][y+1]):\n",
    "              count += 1\n",
    "          histograms[k][j][y] = count\n",
    "    histograms = histograms / len(labels)\n",
    "        \n",
    "  return histograms, binning"
   ]
  },
  {
   "cell_type": "code",
   "execution_count": 76,
   "metadata": {
    "id": "rtzfMVAlCzVE"
   },
   "outputs": [],
   "source": [
    "def predicted_naive_bayes(test_features, histograms, binning):\n",
    "  predicted_labels = np.zeros(len(test_features))\n",
    "  for i in range(len(test_features)):\n",
    "    l_kj = np.zeros((2, 2))\n",
    "    for k in range(2):\n",
    "      for j in range(2):\n",
    "        if(int(np.floor((test_features[i, j] - binning[k][j][0]) / binning[k][j][1])) >= len(histograms[0][0]) or int(np.floor((test_features[i, j] - binning[k][j][0]) / binning[k][j][1]) < 0)):\n",
    "          l_kj[k][j] = 1 / len(histograms[0][0])\n",
    "        else:\n",
    "          l_kj[k][j] = histograms[k, j][int(np.floor((test_features[i, j] - binning[k][j][0]) / binning[k][j][1]))]\n",
    "    sum1 = np.sum(l_kj[0])\n",
    "    sum2 = np.sum(l_kj[1])\n",
    "    if(sum1 > sum2):\n",
    "      predicted_labels[i] = 3\n",
    "    else:\n",
    "      predicted_labels[i] = 9\n",
    "  return predicted_labels"
   ]
  },
  {
   "cell_type": "code",
   "execution_count": 77,
   "metadata": {
    "colab": {
     "base_uri": "https://localhost:8080/"
    },
    "id": "hVSS2TnqLWu9",
    "outputId": "b26abac9-6e13-4e96-ec1b-c00bb2c95101"
   },
   "outputs": [
    {
     "name": "stdout",
     "output_type": "stream",
     "text": [
      "0.7013888888888888\n",
      "confusion matrix\n",
      "[[47 23]\n",
      " [20 54]]\n",
      "0.5694444444444444\n",
      "confusion matrix\n",
      "[[18 52]\n",
      " [10 64]]\n"
     ]
    }
   ],
   "source": [
    "from sklearn.metrics import confusion_matrix\n",
    "histograms, binning = fit_naive_bayes(reduced_x_train_3_9, y_train_3_9, bincount=0)\n",
    "pred = predicted_naive_bayes(reduced_x_test, histograms, binning)\n",
    "print(np.sum(pred == y_test_3_9) / len(y_test_3_9))\n",
    "print('confusion matrix')\n",
    "print(confusion_matrix(y_test_3_9, pred))\n",
    "\n",
    "histograms, binning = fit_naive_bayes(X_train_3_9, y_train_3_9, bincount=8)\n",
    "pred = predicted_naive_bayes(X_test_3_9, histograms, binning)\n",
    "print(np.sum(pred == y_test_3_9) / len(y_test_3_9))\n",
    "print('confusion matrix')\n",
    "print(confusion_matrix(y_test_3_9, pred))"
   ]
  },
  {
   "cell_type": "code",
   "execution_count": 78,
   "metadata": {},
   "outputs": [
    {
     "name": "stderr",
     "output_type": "stream",
     "text": [
      "<ipython-input-78-a699cf70c911>:17: MatplotlibDeprecationWarning: shading='flat' when X and Y have the same dimensions as C is deprecated since 3.3.  Either specify the corners of the quadrilaterals with X and Y, or pass shading='auto', 'nearest' or 'gouraud', or set rcParams['pcolor.shading'].  This will become an error two minor releases later.\n",
      "  plt.pcolormesh(x_2, y_2, z_2, alpha=0.05, cmap=\"bwr_r\")\n"
     ]
    },
    {
     "data": {
      "image/png": "[encoded data removed]",
      "text/plain": [
       "<Figure size 432x288 with 1 Axes>"
      ]
     },
     "metadata": {
      "needs_background": "light"
     },
     "output_type": "display_data"
    }
   ],
   "source": [
    "axis_dim = 200\n",
    "\n",
    "x_1 = np.linspace(np.min(reduced_x_test)-5, np.max(reduced_x_test) + 5, axis_dim)\n",
    "y_1 = np.linspace(np.min(reduced_x_test)-5, np.max(reduced_x_test) + 5, axis_dim)\n",
    "x_2, y_2 = np.meshgrid(x_1, y_1)\n",
    "\n",
    "x_2_new = np.reshape(x_2, (axis_dim*axis_dim,1))\n",
    "y_2_new = np.reshape(y_2, (axis_dim*axis_dim,1))\n",
    "tmp = np.concatenate((x_2_new, y_2_new), axis=1)\n",
    "\n",
    "histograms, binning = fit_naive_bayes(reduced_x_train_3_9, y_train_3_9, bincount=0)\n",
    "pred_red = predicted_naive_bayes(tmp, histograms, binning)\n",
    "\n",
    "z_2 = np.reshape(pred_red, (axis_dim, axis_dim))\n",
    "\n",
    "plt.figure()\n",
    "plt.pcolormesh(x_2, y_2, z_2, alpha=0.05, cmap=\"bwr_r\")\n",
    "plt.grid(True)\n",
    "\n",
    "plt.scatter(reduced_x_test[np.where(y_test_3_9==3),0],reduced_x_test[np.where(y_test_3_9==3),1], s=5, color=\"salmon\", label=\"Test Data Display 3\")\n",
    "plt.scatter(reduced_x_test[np.where(y_test_3_9==9),0],reduced_x_test[np.where(y_test_3_9==9),1], s=5, color=\"deepskyblue\", label=\"Test Data Display 9\")\n",
    "\n",
    "plt.legend()\n",
    "plt.xlabel(\"# of first row pixels\")\n",
    "plt.ylabel(\"# of third column pixels\")\n",
    "plt.title(\"Test data decision boundaries\")\n",
    "plt.show()"
   ]
  }
 ],
 "metadata": {
  "colab": {
   "collapsed_sections": [],
   "name": "Naive Bayes Classifier.ipynb",
   "provenance": []
  },
  "kernelspec": {
   "display_name": "Python 3",
   "language": "python",
   "name": "python3"
  },
  "language_info": {
   "codemirror_mode": {
    "name": "ipython",
    "version": 3
   },
   "file_extension": ".py",
   "mimetype": "text/x-python",
   "name": "python",
   "nbconvert_exporter": "python",
   "pygments_lexer": "ipython3",
   "version": "3.8.5"
  }
 },
 "nbformat": 4,
 "nbformat_minor": 1
}
