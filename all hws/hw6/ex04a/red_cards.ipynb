{
 "cells": [
  {
   "cell_type": "code",
   "execution_count": 2,
   "metadata": {
    "id": "4Mm8MGng_NAu"
   },
   "outputs": [],
   "source": [
    "import numpy as np\n",
    "from sklearn.datasets import load_digits\n",
    "import matplotlib.pyplot as plt\n",
    "import pandas as pd\n",
    "import os\n",
    "import sys"
   ]
  },
  {
   "cell_type": "markdown",
   "metadata": {
    "id": "gX0-Qa-5svfV"
   },
   "source": [
    "# **1.1 Euclidean Distance**"
   ]
  },
  {
   "cell_type": "code",
   "execution_count": null,
   "metadata": {
    "colab": {
     "base_uri": "https://localhost:8080/"
    },
    "id": "6lzumrMHsyg2",
    "outputId": "a66de11e-1cea-41dd-c5c7-ee237ebff84f"
   },
   "outputs": [
    {
     "name": "stdout",
     "output_type": "stream",
     "text": [
      "dict_keys(['data', 'target', 'frame', 'feature_names', 'target_names', 'images', 'DESCR'])\n",
      "float64\n"
     ]
    }
   ],
   "source": [
    "digits = load_digits ()\n",
    "print (digits . keys ())\n",
    "data = digits [\"data\"]\n",
    "images = digits [\"images\"]\n",
    "target = digits [\"target\"]\n",
    "target_names = digits [\"target_names\"]\n",
    "print (data.dtype)"
   ]
  },
  {
   "cell_type": "code",
   "execution_count": null,
   "metadata": {
    "id": "lQiWMNi3t9ol"
   },
   "outputs": [],
   "source": [
    "def dist_vec(training, test):\n",
    "  dist_mat = np.zeros([len(training), len(test)])\n",
    "  trans_test = test.T\n",
    "  mult_sets = -2 * (training @ trans_test)\n",
    "  train_arr = np.sum(np.full((training.shape), np.square(training)), axis=1)\n",
    "  test_arr = np.sum(np.full((test.shape), np.square(test)), axis=1)\n",
    "  train_arr = np.resize(train_arr, mult_sets.T.shape).T\n",
    "  test_arr = np.resize(test_arr, mult_sets.shape)\n",
    "  dist_mat = np.sqrt(train_arr + test_arr + mult_sets)\n",
    "  return dist_mat"
   ]
  },
  {
   "cell_type": "code",
   "execution_count": null,
   "metadata": {
    "id": "Xh62A8aBwMvj"
   },
   "outputs": [],
   "source": [
    "diss_matrix = dist_vec(data, data)\n",
    "sorted_diss_mat = np.zeros(diss_matrix.shape)\n",
    "for i in range(len(diss_matrix)):\n",
    "  sorted_diss_mat[i, :] = np.argsort(diss_matrix[i, :])"
   ]
  },
  {
   "cell_type": "code",
   "execution_count": null,
   "metadata": {
    "colab": {
     "base_uri": "https://localhost:8080/"
    },
    "id": "pWa8xDVswjvc",
    "outputId": "1b96ae7a-7452-4a5b-af5b-9c0dc5ad06f4"
   },
   "outputs": [
    {
     "name": "stdout",
     "output_type": "stream",
     "text": [
      "[   4. 1777.  100. 1735. 1244. 1351. 1198.   97. 1754. 1788.]\n"
     ]
    }
   ],
   "source": [
    "np.set_printoptions(threshold=sys.maxsize)\n",
    "print(sorted_diss_mat[4, :10])"
   ]
  },
  {
   "cell_type": "code",
   "execution_count": null,
   "metadata": {
    "id": "kRQmakgc3zf5"
   },
   "outputs": [],
   "source": [
    "plt.gray()\n",
    "plt.imshow(images[100])\n",
    "plt.show"
   ]
  },
  {
   "cell_type": "code",
   "execution_count": null,
   "metadata": {
    "id": "dWHNqs7-4tI4"
   },
   "outputs": [],
   "source": [
    "positives = np.zeros((len(sorted_diss_mat), 200 - 2))\n",
    "for N in range(1, 200):\n",
    "  label_check = np.zeros((len(sorted_diss_mat), N), dtype=int)\n",
    "  if (N % 20 == 0):\n",
    "    print(N)\n",
    "  for i in range(len(sorted_diss_mat)):\n",
    "    count = 0\n",
    "    for m in range(N):\n",
    "      label_check[i, m] = target[int(sorted_diss_mat[i, m])]\n",
    "    for j in range(1, N):\n",
    "      if label_check[i, 0] == label_check[i, j]:\n",
    "        count += 1\n",
    "    positives[i, N-2] = count"
   ]
  },
  {
   "cell_type": "code",
   "execution_count": null,
   "metadata": {
    "id": "smawGoVnGVVO"
   },
   "outputs": [],
   "source": [
    "#unnecessary\n",
    "total_pos = np.zeros(len(sorted_diss_mat))\n",
    "for i in range(len(sorted_diss_mat)):\n",
    "  total_pos[i] = np.sum(positives[i, :])"
   ]
  },
  {
   "cell_type": "code",
   "execution_count": null,
   "metadata": {
    "id": "OKi5lbu8Man2"
   },
   "outputs": [],
   "source": [
    "N = 200\n",
    "precision_mat = np.zeros((len(sorted_diss_mat), N-2))\n",
    "for i in range(len(sorted_diss_mat)):\n",
    "  for m in range(N-2):\n",
    "    precision_mat[i, m] = positives[i, m] / (positives[i, m] + (m+1) - positives[i, m])"
   ]
  },
  {
   "cell_type": "code",
   "execution_count": null,
   "metadata": {
    "id": "fGeYp7OsOU3m"
   },
   "outputs": [],
   "source": [
    "N = 200\n",
    "recall_mat = np.zeros((len(sorted_diss_mat), N-2))\n",
    "for i in range(len(sorted_diss_mat)):\n",
    "  for m in range(N-2):\n",
    "    recall_mat[i, m] = positives[i, m] / positives[i, N-3] #total_pos[i]"
   ]
  },
  {
   "cell_type": "code",
   "execution_count": null,
   "metadata": {
    "id": "bXFLAFNROhnR"
   },
   "outputs": [],
   "source": [
    "def prec_recall(N, recall_mat, precision_mat, target):\n",
    "  precision_k = []\n",
    "  recall_k = []\n",
    "  for k in range(10):\n",
    "    precision_k.append(precision_mat[np.argwhere(target == k)])\n",
    "    recall_k.append(recall_mat[np.argwhere(target == k)])\n",
    "  recall_k = np.array(recall_k)\n",
    "  precision_k = np.array(precision_k)\n",
    "\n",
    "  precision_avg = np.zeros((10, N-2))\n",
    "  recall_avg = np.zeros((10, N-2))\n",
    "  for k in range(10):\n",
    "    precision_k[k] = precision_k[k].reshape(-1, N-2)\n",
    "    precision_avg[k, :] = np.mean(precision_k[k], axis=0)\n",
    "    recall_k[k] = recall_k[k].reshape(-1, N-2)\n",
    "    recall_avg[k, :] = np.mean(recall_k[k], axis=0)\n",
    "  return recall_avg, precision_avg"
   ]
  },
  {
   "cell_type": "code",
   "execution_count": null,
   "metadata": {
    "colab": {
     "base_uri": "https://localhost:8080/"
    },
    "id": "dPu_9TvjRwv_",
    "outputId": "30f41b48-afc8-4053-dcfb-0da6b301c886"
   },
   "outputs": [
    {
     "name": "stderr",
     "output_type": "stream",
     "text": [
      "/usr/local/lib/python3.7/dist-packages/ipykernel_launcher.py:7: VisibleDeprecationWarning: Creating an ndarray from ragged nested sequences (which is a list-or-tuple of lists-or-tuples-or ndarrays with different lengths or shapes) is deprecated. If you meant to do this, you must specify 'dtype=object' when creating the ndarray\n",
      "  import sys\n",
      "/usr/local/lib/python3.7/dist-packages/ipykernel_launcher.py:8: VisibleDeprecationWarning: Creating an ndarray from ragged nested sequences (which is a list-or-tuple of lists-or-tuples-or ndarrays with different lengths or shapes) is deprecated. If you meant to do this, you must specify 'dtype=object' when creating the ndarray\n",
      "  \n"
     ]
    }
   ],
   "source": [
    "recall_avg, precision_avg = prec_recall(N=200, recall_mat=recall_mat, precision_mat=precision_mat, target=target)"
   ]
  },
  {
   "cell_type": "code",
   "execution_count": null,
   "metadata": {
    "id": "SBDe1_6bhSUm"
   },
   "outputs": [],
   "source": [
    "def plotting(recall_avg, precision_avg):\n",
    "  fig, ax = plt.subplots(5, 2)\n",
    "  count = -1\n",
    "  for j in range(5):\n",
    "    for i in range(2):\n",
    "      count += 1\n",
    "      ax[j, i].plot(recall_avg[count, :], precision_avg[count, :], color='purple')\n",
    "\n",
    "    #add axis labels to plot\n",
    "      ax[j, i].set_title('Precision-Recall Curve for')\n",
    "      ax[j, i].set_ylabel('Precision')\n",
    "      ax[j, i].set_xlabel('Recall')\n",
    "\n",
    "  #display plot\n",
    "  plt.show()\n",
    "\n",
    "  for k in range(10):\n",
    "    int_ready = []\n",
    "    for i in range(len(recall_avg[0])):\n",
    "      int_ready.append([recall_avg[k, i], precision_avg[k, i]])\n",
    "\n",
    "    check1 = np.trapz(int_ready, dx=1/200)\n",
    "    auc = sum(check1) + 1/200\n",
    "    print('Area under curve={} for k={}'.format(auc, k))"
   ]
  },
  {
   "cell_type": "code",
   "execution_count": null,
   "metadata": {
    "colab": {
     "base_uri": "https://localhost:8080/",
     "height": 469
    },
    "id": "tDARKYe30zyG",
    "outputId": "4b24f060-2e93-4485-fbc6-744a91feaaae"
   },
   "outputs": [
    {
     "data": {
      "image/png": "[encoded data removed]",
      "text/plain": [
       "<Figure size 432x288 with 10 Axes>"
      ]
     },
     "metadata": {
      "needs_background": "light"
     },
     "output_type": "display_data"
    },
    {
     "name": "stdout",
     "output_type": "stream",
     "text": [
      "Area under curve=0.7668587145755931 for k=0\n",
      "Area under curve=0.6615794431062129 for k=1\n",
      "Area under curve=0.7083068981395275 for k=2\n",
      "Area under curve=0.6802358614900705 for k=3\n",
      "Area under curve=0.7164044768619319 for k=4\n",
      "Area under curve=0.6938636606928817 for k=5\n",
      "Area under curve=0.7516985786609741 for k=6\n",
      "Area under curve=0.7230514376164114 for k=7\n",
      "Area under curve=0.6083986004624081 for k=8\n",
      "Area under curve=0.6312713673051572 for k=9\n"
     ]
    }
   ],
   "source": [
    "plotting(recall_avg=recall_avg, precision_avg=precision_avg)"
   ]
  },
  {
   "cell_type": "code",
   "execution_count": null,
   "metadata": {
    "colab": {
     "base_uri": "https://localhost:8080/"
    },
    "id": "n-iCTnv6n_sR",
    "outputId": "acd87fc8-0e77-44bc-c9c2-cc949a24292d"
   },
   "outputs": [
    {
     "name": "stderr",
     "output_type": "stream",
     "text": [
      "/usr/local/lib/python3.7/dist-packages/ipykernel_launcher.py:6: RuntimeWarning: divide by zero encountered in double_scalars\n",
      "  \n",
      "/usr/local/lib/python3.7/dist-packages/ipykernel_launcher.py:7: RuntimeWarning: divide by zero encountered in double_scalars\n",
      "  import sys\n"
     ]
    }
   ],
   "source": [
    "precision_gain = np.ones(precision_mat.shape)\n",
    "recall_gain = np.ones(recall_mat.shape)\n",
    "N = 200\n",
    "for i in range(len(precision_mat)):\n",
    "  for m in range(N-2):\n",
    "    precision_gain[i, m] = np.max([0, (N/positives[i, N-3] - 1/precision_mat[i, m]) / (N/positives[i, N-3] - 1)])\n",
    "    recall_gain[i, m] = np.max([0, (N/positives[i, N-3] - 1/recall_mat[i, m]) / (N/positives[i, N-3] - 1)])"
   ]
  },
  {
   "cell_type": "code",
   "execution_count": null,
   "metadata": {
    "colab": {
     "base_uri": "https://localhost:8080/",
     "height": 558
    },
    "id": "78pnzImV1Os3",
    "outputId": "2bd10191-9261-4ff8-f46f-400d60470c7a"
   },
   "outputs": [
    {
     "name": "stderr",
     "output_type": "stream",
     "text": [
      "/usr/local/lib/python3.7/dist-packages/ipykernel_launcher.py:7: VisibleDeprecationWarning: Creating an ndarray from ragged nested sequences (which is a list-or-tuple of lists-or-tuples-or ndarrays with different lengths or shapes) is deprecated. If you meant to do this, you must specify 'dtype=object' when creating the ndarray\n",
      "  import sys\n",
      "/usr/local/lib/python3.7/dist-packages/ipykernel_launcher.py:8: VisibleDeprecationWarning: Creating an ndarray from ragged nested sequences (which is a list-or-tuple of lists-or-tuples-or ndarrays with different lengths or shapes) is deprecated. If you meant to do this, you must specify 'dtype=object' when creating the ndarray\n",
      "  \n"
     ]
    },
    {
     "data": {
      "image/png": "[encoded data removed]",
      "text/plain": [
       "<Figure size 432x288 with 10 Axes>"
      ]
     },
     "metadata": {
      "needs_background": "light"
     },
     "output_type": "display_data"
    },
    {
     "name": "stdout",
     "output_type": "stream",
     "text": [
      "Area under curve=0.5355807964722884 for k=0\n",
      "Area under curve=0.5765976021931428 for k=1\n",
      "Area under curve=0.5645877417855086 for k=2\n",
      "Area under curve=0.49589040852752375 for k=3\n",
      "Area under curve=0.5320076290919472 for k=4\n",
      "Area under curve=0.5522958863729815 for k=5\n",
      "Area under curve=0.5175459421836489 for k=6\n",
      "Area under curve=0.5365221633999444 for k=7\n",
      "Area under curve=0.49373068860727026 for k=8\n",
      "Area under curve=0.5095486254770974 for k=9\n"
     ]
    }
   ],
   "source": [
    "recall_gain_avg, precision_gain_avg = prec_recall(N=200, recall_mat=recall_gain, precision_mat=precision_gain, target=target)\n",
    "plotting(recall_avg=recall_gain_avg, precision_avg=precision_gain_avg)"
   ]
  },
  {
   "cell_type": "markdown",
   "metadata": {
    "id": "jYL8ldlSp9dk"
   },
   "source": [
    "PrecisionGain and RecallGain gave worse results than the precision and recall. The numbers 8, 9, 4 are difficult to distinguish however 0, 6, and 7 gave the best results to distinguish in the precision and recall. It is difficult to compare the AUC between numbers because they are close to each other"
   ]
  },
  {
   "cell_type": "markdown",
   "metadata": {
    "id": "8aW1nJ9JehAf"
   },
   "source": [
    "# **2.1 Loading and Cleaning the Data**"
   ]
  },
  {
   "cell_type": "code",
   "execution_count": null,
   "metadata": {
    "colab": {
     "base_uri": "https://localhost:8080/"
    },
    "id": "yt-c2c1RspWW",
    "outputId": "6c294c7c-5b28-4b43-9a45-5069a6e8a094"
   },
   "outputs": [
    {
     "name": "stdout",
     "output_type": "stream",
     "text": [
      "Mounted at /content/gdrive\n"
     ]
    }
   ],
   "source": [
    "from google.colab import drive\n",
    "drive.mount(\"/content/gdrive\")"
   ]
  },
  {
   "cell_type": "code",
   "execution_count": 3,
   "metadata": {
    "id": "diejuJBJCi04"
   },
   "outputs": [],
   "source": [
    "file = os.path.join('data','/content/gdrive/My Drive/CrowdstormingDataJuly1st.csv') \n",
    "df = pd.read_csv(file)"
   ]
  },
  {
   "cell_type": "code",
   "execution_count": null,
   "metadata": {
    "colab": {
     "base_uri": "https://localhost:8080/"
    },
    "id": "ocwJMwuPIisA",
    "outputId": "478ee874-4c1c-476c-ef94-842b61131938"
   },
   "outputs": [
    {
     "name": "stdout",
     "output_type": "stream",
     "text": [
      "Index(['playerShort', 'player', 'club', 'leagueCountry', 'birthday', 'height',\n",
      "       'weight', 'position', 'games', 'victories', 'ties', 'defeats', 'goals',\n",
      "       'yellowCards', 'yellowReds', 'redCards', 'photoID', 'rater1', 'rater2',\n",
      "       'refNum', 'refCountry', 'Alpha_3', 'meanIAT', 'nIAT', 'seIAT',\n",
      "       'meanExp', 'nExp', 'seExp'],\n",
      "      dtype='object')\n"
     ]
    }
   ],
   "source": [
    "print(df.axes[1])"
   ]
  },
  {
   "cell_type": "code",
   "execution_count": null,
   "metadata": {
    "id": "u2zGWN7ZRwE9"
   },
   "outputs": [],
   "source": [
    "df_cleaned = df.dropna(subset=['photoID'])\n",
    "df_cleaned = df_cleaned.assign(skin_avg=df.loc[:, [\"rater1\", \"rater2\"]].mean(axis=1))\n",
    "df_cleaned = df_cleaned.assign(all_reds=df.loc[:, [\"yellowReds\", \"redCards\"]].sum(axis=1))\n",
    "df_cleaned = df_cleaned.groupby([\"playerShort\",'skin_avg'], as_index=False).sum()\n",
    "\n",
    "dataset = df_cleaned\n",
    "dataset[\"red_per_game\"] = (df_cleaned.loc[:,'all_reds']) / df_cleaned.loc[:, 'games']\n",
    "dataset = df_cleaned.loc[:,['skin_avg','red_per_game','refNum']]"
   ]
  },
  {
   "cell_type": "code",
   "execution_count": null,
   "metadata": {
    "colab": {
     "base_uri": "https://localhost:8080/"
    },
    "id": "JaQjbJaCWLN2",
    "outputId": "41e96c13-f978-42f9-91e4-d534a66daf83"
   },
   "outputs": [
    {
     "name": "stdout",
     "output_type": "stream",
     "text": [
      "Shape of dataset after dropping irrelevant features: Index(['playerShort', 'skin_avg', 'height', 'weight', 'games', 'victories',\n",
      "       'ties', 'defeats', 'goals', 'yellowCards', 'yellowReds', 'redCards',\n",
      "       'rater1', 'rater2', 'refNum', 'refCountry', 'meanIAT', 'nIAT', 'seIAT',\n",
      "       'meanExp', 'nExp', 'seExp', 'all_reds', 'red_per_game'],\n",
      "      dtype='object') (1585, 3)\n"
     ]
    }
   ],
   "source": [
    "print(\"Shape of dataset after dropping irrelevant features:\", df_cleaned.axes[1], dataset.shape)"
   ]
  },
  {
   "cell_type": "markdown",
   "metadata": {
    "id": "lexISpN7d-Fy"
   },
   "source": [
    "*   Dataset's README.txt file explaines all the feature names.\n",
    "*   We only need referee numbers, skin colour rates and number of red cards that each player have seen. Since the main task is finding the relation between players' skin color and red cards we considered irrelevant all features except these two.\n",
    "*   Total number of red cards data was missing and we computed by summing redCards and yellowReds\n",
    "*   There are approximately 500 missing data, we excluded those players' data from the dataset that we used for our models.\n",
    "*   Raters are mostly gave similar answers but in order not to have a bias we took the mean values of raters' guess.\n",
    "*   No, we considered every possible referee. If number of appereance is related to the objectiveness of the refereee then we should exclude them but dataset does not mention such information.\n",
    "*   Yes, they should. For each player, we calculate an average probability of getting a red card from different referees."
   ]
  },
  {
   "cell_type": "markdown",
   "metadata": {
    "id": "q-U-STwpepHn"
   },
   "source": [
    "# **2.2 Model Creation**"
   ]
  },
  {
   "cell_type": "code",
   "execution_count": 4,
   "metadata": {
    "id": "uQsrbQq04hTz"
   },
   "outputs": [],
   "source": [
    "# base classes\n",
    "\n",
    "class Node:\n",
    "    pass\n",
    "\n",
    "class Tree:\n",
    "    def __init__(self):\n",
    "        self.root = Node()\n",
    "    \n",
    "    def find_leaf(self, x):\n",
    "        node = self.root\n",
    "        while hasattr(node, \"feature\"):\n",
    "            j = node.feature\n",
    "            if x[j] <= node.threshold:\n",
    "                node = node.left\n",
    "            else:\n",
    "                node = node.right\n",
    "        return node"
   ]
  },
  {
   "cell_type": "code",
   "execution_count": 5,
   "metadata": {
    "id": "0zUNsOyLecus"
   },
   "outputs": [],
   "source": [
    "class DecisionTree(Tree):\n",
    "    def __init__(self):\n",
    "        super(DecisionTree, self).__init__()\n",
    "        \n",
    "    def train(self, data, labels, n_min=20):\n",
    "        '''\n",
    "        data: the feature matrix for all digits\n",
    "        labels: the corresponding ground-truth responses\n",
    "        n_min: termination criterion (don't split if a node contains fewer instances)\n",
    "        '''\n",
    "        N, D = data.shape\n",
    "        D_try = int(np.sqrt(D)) # how many features to consider for each split decision\n",
    "\n",
    "        # initialize the root node\n",
    "        self.root.data = data\n",
    "        self.root.labels = labels\n",
    "        \n",
    "        #put root in stack\n",
    "        stack = [self.root]\n",
    "        while len(stack):\n",
    "            node = stack.pop()\n",
    "            n = node.data.shape[0] # number of instances in present node\n",
    "            if n >= n_min:\n",
    "                # Call 'make_decision_split_node()' with 'D_try' randomly selected \n",
    "                # feature indices. This turns 'node' into a split node\n",
    "                # and returns the two children, which must be placed on the 'stack'.\n",
    "                \n",
    "                perm = np.random.permutation(D)   # permute D indices\n",
    "                left, right = make_decision_split_node(node, perm[:D_try]) #select :D_try of permuted indices\n",
    "                                                       #for 'make_decision_split_node()'\n",
    "                # put children in stack\n",
    "                stack.append(left)\n",
    "                stack.append(right)\n",
    "            else:\n",
    "                # Call 'make_decision_leaf_node()' to turn 'node' into a leaf node.\n",
    "                make_decision_leaf_node(node)\n",
    "                \n",
    "    def predict(self, x):\n",
    "        leaf = self.find_leaf(x)\n",
    "        # compute p(y | x)\n",
    "        return leaf.response"
   ]
  },
  {
   "cell_type": "code",
   "execution_count": 6,
   "metadata": {
    "id": "ytEuV1n14SM_"
   },
   "outputs": [],
   "source": [
    "def make_decision_split_node(node, feature_indices):\n",
    "    '''\n",
    "    node: the node to be split\n",
    "    feature_indices: a numpy array of length 'D_try', containing the feature \n",
    "                     indices to be considered in the present split\n",
    "    '''\n",
    "    n, D = node.data.shape\n",
    "\n",
    "    # find best feature j (among 'feature_indices') and best threshold t for the split\n",
    "    e_min = 1e100\n",
    "    j_min, t_min = 0, 0\n",
    "    for j in feature_indices:\n",
    "        # remove duplicate features\n",
    "        dj = np.sort(np.unique(node.data[:,j]))\n",
    "        # compute candidate thresholds in the middle between consecutive feature values\n",
    "        tj = 0.5 * (dj[1:] + dj[:-1]) \n",
    "        # each candidate threshold we need to compute Gini impurities of the resulting children node\n",
    "        for t in tj:\n",
    "            left_indices = node.data[:,j] <= t\n",
    "            nl = np.sum(left_indices)\n",
    "            ll = node.labels[left_indices]\n",
    "            #el = nl * (1 - np.sum(np.square(np.bincount(ll)/nl)))\n",
    "            el = ((ll - ll.mean())**2).sum()\n",
    "            nr = n - nl\n",
    "            lr = node.labels[node.data[:,j] > t]\n",
    "            #er = nr * (1 - np.sum(np.square(np.bincount(lr)/nr)))\n",
    "            er = ((lr - lr.mean())**2).sum()\n",
    "            # choose the the best threshold that minimizes sum of Gini impurities\n",
    "            if el + er < e_min:\n",
    "                e_min = el + er\n",
    "                j_min = j\n",
    "                t_min = t\n",
    "\n",
    "\n",
    "    # create children\n",
    "    left = Node()\n",
    "    right = Node()\n",
    "    \n",
    "    # initialize 'left' and 'right' with the data subsets and labels\n",
    "    # according to the optimal split found above\n",
    "    left.data = node.data[node.data[:,j_min] <= t_min, :]\n",
    "    left.labels = node.labels[node.data[:,j_min] <= t_min]\n",
    "    right.data = node.data[node.data[:,j_min] > t_min, :]\n",
    "    right.labels = node.labels[node.data[:,j_min] > t_min]\n",
    "\n",
    "    # turn the current 'node' into a split node\n",
    "    # (store children and split condition)\n",
    "    node.left = left\n",
    "    node.right = right\n",
    "    node.feature = j_min\n",
    "    node.threshold = t_min\n",
    "\n",
    "    # return the children (to be placed on the stack)\n",
    "    return left, right"
   ]
  },
  {
   "cell_type": "code",
   "execution_count": 7,
   "metadata": {
    "id": "YDEcOLRL4S5n"
   },
   "outputs": [],
   "source": [
    "def make_decision_leaf_node(node):\n",
    "    '''\n",
    "    node: the node to become a leaf\n",
    "    '''\n",
    "    node.N = node.labels.shape[0]\n",
    "    node.response = np.mean(node.labels)"
   ]
  },
  {
   "cell_type": "code",
   "execution_count": 8,
   "metadata": {
    "id": "WIk7k2A083E8"
   },
   "outputs": [],
   "source": [
    "class LinearRegression:\n",
    "    def __init__(self):\n",
    "        self.beta = None\n",
    "        self.b = None\n",
    "      \n",
    "    def train(self, input, output):\n",
    "        N, D = input.shape\n",
    "        output = output.reshape((N, 1))\n",
    "\n",
    "        mean_input = np.mean(input, axis=0)\n",
    "        mean_output = np.mean(output, axis=0)\n",
    "\n",
    "        SS_xy = np.sum(output*input) - N*mean_output*mean_input\n",
    "        SS_xx = np.sum(input*input) - N*mean_input @ mean_input\n",
    "    \n",
    "        self.beta = SS_xy / SS_xx\n",
    "        self.b = mean_output - self.beta @ mean_input\n",
    "\n",
    "        #self.beta = ( np.mean(data * labels, axis=0) - m_x * m_y ) / ( np.mean(np.sum(data**2, axis=1), axis=0) - np.dot(m_x, m_x) )\n",
    "        #self.b = m_y - np.dot(self.beta, m_x)\n",
    "\n",
    "        return self.beta, self.b\n",
    "\n",
    "\n",
    "    def predict(self, input):\n",
    "        return input @ self.beta + self.b"
   ]
  },
  {
   "cell_type": "code",
   "execution_count": 9,
   "metadata": {
    "id": "NLo8H51I-aNG"
   },
   "outputs": [],
   "source": [
    "class RegressionForest():\n",
    "    def __init__(self, n_trees=10):\n",
    "        self.trees = [DecisionTree() for i in range(n_trees)]\n",
    "    \n",
    "    def train(self, data, labels, n_min=10):\n",
    "        for tree in self.trees:\n",
    "            bootstrap = np.random.choice(len(data), size=len(data))\n",
    "            tree.train(data[bootstrap], labels[bootstrap], n_min)\n",
    "\n",
    "    def predict(self, x):\n",
    "        return np.mean([tree.predict(x) for tree in self.trees], axis=0)"
   ]
  },
  {
   "cell_type": "code",
   "execution_count": 10,
   "metadata": {
    "id": "Tet8-mnc-kSf"
   },
   "outputs": [],
   "source": [
    "def cross_validate(k_fold, data, labels):\n",
    "    N, D = data.shape\n",
    "    linear_regression = LinearRegression()\n",
    "    regression_forest = RegressionForest()\n",
    "\n",
    "    results = []\n",
    "    linear_err = []\n",
    "    forest_err = []\n",
    "\n",
    "    input_folds = np.array_split(data, k_fold)\n",
    "    output_folds = np.array_split(labels, k_fold)\n",
    "\n",
    "    for k in range(k_fold):\n",
    "        train_input_fold = np.concatenate([input_folds[i] for i in range(k_fold) if i != k])\n",
    "        test_input_fold = input_folds[k]\n",
    "        train_output_fold = np.concatenate([output_folds[i] for i in range(k_fold) if i != k])\n",
    "        test_output_fold = output_folds[k]\n",
    "\n",
    "        # linear regression\n",
    "        beta, b = linear_regression.train(train_input_fold, train_output_fold)\n",
    "        results_linear = linear_regression.predict(test_input_fold)\n",
    "        linear_err.append(np.sum(np.square(results_linear - test_output_fold)))\n",
    "\n",
    "        # regression forest\n",
    "        regression_forest.train(train_input_fold, train_output_fold)\n",
    "        results_forest = np.zeros(len(test_input_fold[:,0]))\n",
    "        for i in range(len(test_input_fold[:,0])):\n",
    "            results_forest[i] = regression_forest.predict(test_input_fold[i,:])\n",
    "        forest_err.append(np.sum(np.square((results_forest - test_output_fold)[np.isfinite(results_forest)])))\n",
    "\n",
    "    results.append(np.array([[np.mean(linear_err), np.std(linear_err)], [np.mean(forest_err), np.std(forest_err)]]))\n",
    "\n",
    "    return results[0]"
   ]
  },
  {
   "cell_type": "code",
   "execution_count": null,
   "metadata": {
    "colab": {
     "base_uri": "https://localhost:8080/"
    },
    "id": "6PX-6ebpNjGg",
    "outputId": "657425f5-d19f-442c-b278-a05aab9973ff"
   },
   "outputs": [
    {
     "name": "stderr",
     "output_type": "stream",
     "text": [
      "/usr/local/lib/python3.7/dist-packages/numpy/core/fromnumeric.py:3373: RuntimeWarning: Mean of empty slice.\n",
      "  out=out, **kwargs)\n",
      "/usr/local/lib/python3.7/dist-packages/numpy/core/_methods.py:170: RuntimeWarning: invalid value encountered in double_scalars\n",
      "  ret = ret.dtype.type(ret / rcount)\n"
     ]
    }
   ],
   "source": [
    "data = np.atleast_2d(dataset[[\"skin_avg\",\"refNum\"]])\n",
    "labels = np.atleast_2d(dataset[\"red_per_game\"]).reshape((len(data)))\n",
    "k = 10\n",
    "errors = cross_validate(k, data, labels)"
   ]
  },
  {
   "cell_type": "code",
   "execution_count": null,
   "metadata": {
    "colab": {
     "base_uri": "https://localhost:8080/",
     "height": 281
    },
    "id": "HnZJV1pO_xz-",
    "outputId": "79369aab-b86f-416b-9032-e2b8ef4ea186"
   },
   "outputs": [
    {
     "data": {
      "image/png": "[encoded data removed]",
      "text/plain": [
       "<Figure size 432x288 with 1 Axes>"
      ]
     },
     "metadata": {
      "needs_background": "light"
     },
     "output_type": "display_data"
    }
   ],
   "source": [
    "errors_linear = []\n",
    "errors_forest = []\n",
    "stds_linear = []\n",
    "stds_forest = []\n",
    "\n",
    "errors_linear.append(errors[0][0])\n",
    "errors_forest.append(errors[1][0])\n",
    "stds_linear.append(errors[0][1])\n",
    "stds_forest.append(errors[1][1])\n",
    "\n",
    "\n",
    "plt.errorbar(1, errors_linear, yerr=stds_linear, lolims=True, uplims=True, label='Linear Regression')\n",
    "plt.errorbar(1, errors_forest, yerr=stds_forest, lolims=True, uplims=True, label='Regression Forest')\n",
    "plt.title(\"10 fold Cross-Validation MSE Graph\")\n",
    "plt.legend()\n",
    "plt.show()"
   ]
  },
  {
   "cell_type": "markdown",
   "metadata": {
    "id": "NgkqO_D8O6K8"
   },
   "source": [
    "As it can be seen from the above plot, Linear Regression gave slightly better result than Regression Forest."
   ]
  },
  {
   "cell_type": "markdown",
   "metadata": {
    "id": "gYfNx3TZo2h2"
   },
   "source": [
    "# **2.3 Answering the Research Question**"
   ]
  },
  {
   "cell_type": "code",
   "execution_count": 11,
   "metadata": {
    "id": "zswItnTco7nS"
   },
   "outputs": [],
   "source": [
    "def permutation_test(k_fold, data, labels, perm):\n",
    "    new_train = np.full((perm, len(data), len(data[0])), data)\n",
    "    skin_col = data[:,0]\n",
    "\n",
    "    for i in range(perm):\n",
    "        np.random.shuffle(skin_col)\n",
    "        new_train[i,:,0] = skin_col\n",
    "    \n",
    "    test_error = np.zeros((perm, 2, 2))\n",
    "    for i in range(perm):\n",
    "        test_error[i] = cross_validate(k_fold, new_train[i], labels)\n",
    "    \n",
    "    return test_error"
   ]
  },
  {
   "cell_type": "code",
   "execution_count": null,
   "metadata": {
    "id": "clQ078gnqNWk"
   },
   "outputs": [],
   "source": [
    "error_with_perm = permutation_test(4, data, labels, 19)\n",
    "error_no_perm = cross_validate(4, data, labels)"
   ]
  },
  {
   "cell_type": "code",
   "execution_count": null,
   "metadata": {
    "colab": {
     "base_uri": "https://localhost:8080/",
     "height": 295
    },
    "id": "Anzafq8vqQCV",
    "outputId": "ee223f29-03b2-4b81-dfb3-682ea7e40ed8"
   },
   "outputs": [
    {
     "data": {
      "image/png": "[encoded data removed]",
      "text/plain": [
       "<Figure size 432x288 with 1 Axes>"
      ]
     },
     "metadata": {
      "needs_background": "light"
     },
     "output_type": "display_data"
    }
   ],
   "source": [
    "n = np.arange(19)\n",
    "plt.errorbar(n, error_with_perm[:,0,0], yerr=error_with_perm[:,0,1], label=\"linear regression\")\n",
    "plt.plot(n, np.full(len(n),error_no_perm[0,0]), \"r\", label=\"linear regression(no permutation)\")\n",
    "plt.plot(n, np.full(len(n),error_no_perm[0,0])+np.full(len(n),error_no_perm[0,1]), ':', color='r')\n",
    "plt.plot(n, np.full(len(n),error_no_perm[0,0])-np.full(len(n),error_no_perm[0,1]), ':', color='r')\n",
    "\n",
    "plt.title(\"Test errors for 19 permutations\")\n",
    "plt.ylabel(\"error\")\n",
    "plt.xlabel(\"# of permutations\")\n",
    "plt.xlim(0,18)\n",
    "plt.legend()\n",
    "plt.show()"
   ]
  },
  {
   "cell_type": "code",
   "execution_count": null,
   "metadata": {
    "colab": {
     "base_uri": "https://localhost:8080/",
     "height": 295
    },
    "id": "2cufpyrTqSDg",
    "outputId": "7779f58e-b75b-4a10-aca2-cb56a03febf0"
   },
   "outputs": [
    {
     "data": {
      "image/png": "[encoded data removed]",
      "text/plain": [
       "<Figure size 432x288 with 1 Axes>"
      ]
     },
     "metadata": {
      "needs_background": "light"
     },
     "output_type": "display_data"
    }
   ],
   "source": [
    "plt.errorbar(n, error_with_perm[:,1,0], yerr=error_with_perm[:,1,1], label=\"regression forest\")\n",
    "plt.plot(n, np.full(len(n), error_no_perm[1,0]), \"r\", label=\"regression forest(no permutation)\")\n",
    "plt.plot(n, np.full(len(n), error_no_perm[1,0]) + np.full(len(n), error_no_perm[1,1]), color=\"g\")\n",
    "plt.plot(n, np.full(len(n), error_no_perm[1,0]) - np.full(len(n), error_no_perm[1,1]), color=\"g\")\n",
    "\n",
    "plt.title(\"Test errors for 19 permutations\")\n",
    "plt.ylabel(\"error\")\n",
    "plt.xlabel(\"# of permutations\")\n",
    "plt.xlim(0,18)\n",
    "plt.legend(bbox_to_anchor=(1, 0.5))\n",
    "plt.show()"
   ]
  },
  {
   "cell_type": "markdown",
   "metadata": {
    "id": "Xerk68KGv8HA"
   },
   "source": [
    "Just by looking at the linear regression model rejects the hyphothesis and by looking at the regression tree model, we can conclude that there is no correlation between skin color and number of red cards. Therefore, it is difficult to say that there is skin color bias or no bias since different models gave different results."
   ]
  },
  {
   "cell_type": "markdown",
   "metadata": {
    "id": "_qfIUDTZzC7u"
   },
   "source": [
    "# **2.4 How to lie with statistics**"
   ]
  },
  {
   "cell_type": "code",
   "execution_count": null,
   "metadata": {
    "id": "ZBJcpoRGzG-Z"
   },
   "outputs": [],
   "source": []
  },
  {
   "cell_type": "markdown",
   "metadata": {
    "id": "EYqrBlbPzGoT"
   },
   "source": [
    "# **2.5 Alternative hypotheses**"
   ]
  },
  {
   "cell_type": "markdown",
   "metadata": {
    "id": "-_cC8Bjj7TGh"
   },
   "source": [
    "Our hypotheses is the players who have large height and weight values have a relation with number of red cards. We tested our hypotheses by creating a dataset with skin_avg that we used previously, red cards per game and height/weight."
   ]
  },
  {
   "cell_type": "code",
   "execution_count": 12,
   "metadata": {
    "id": "py3bT1qKtcmx"
   },
   "outputs": [],
   "source": [
    "df_cleaned = df.dropna(subset=['photoID'])\n",
    "df_cleaned = df_cleaned.assign(skin_avg=df.loc[:, [\"rater1\", \"rater2\"]].mean(axis=1))\n",
    "df_cleaned = df_cleaned.assign(all_reds=df.loc[:, [\"yellowReds\", \"redCards\"]].sum(axis=1))\n",
    "df_cleaned = df_cleaned.groupby([\"playerShort\",'skin_avg'], as_index=False).sum()\n",
    "\n",
    "dataset = df_cleaned\n",
    "dataset[\"red_per_game\"] = (df_cleaned.loc[:,'all_reds']) / df_cleaned.loc[:, 'games']\n",
    "dataset = df_cleaned.loc[:,['skin_avg','red_per_game','height']]"
   ]
  },
  {
   "cell_type": "code",
   "execution_count": 13,
   "metadata": {
    "id": "E8M5GdM5yCcb"
   },
   "outputs": [],
   "source": [
    "data = np.atleast_2d(dataset[[\"skin_avg\",\"height\"]])\n",
    "labels = np.atleast_2d(dataset[\"red_per_game\"]).reshape((len(data)))"
   ]
  },
  {
   "cell_type": "code",
   "execution_count": null,
   "metadata": {
    "colab": {
     "base_uri": "https://localhost:8080/"
    },
    "id": "P4SnIc_Kuvll",
    "outputId": "a27f252d-679c-4b9f-852f-ed82e6cb77dd"
   },
   "outputs": [
    {
     "name": "stderr",
     "output_type": "stream",
     "text": [
      "/usr/local/lib/python3.7/dist-packages/numpy/core/fromnumeric.py:3373: RuntimeWarning: Mean of empty slice.\n",
      "  out=out, **kwargs)\n",
      "/usr/local/lib/python3.7/dist-packages/numpy/core/_methods.py:170: RuntimeWarning: invalid value encountered in double_scalars\n",
      "  ret = ret.dtype.type(ret / rcount)\n"
     ]
    }
   ],
   "source": [
    "k = 10\n",
    "errors = cross_validate(k, data, labels)"
   ]
  },
  {
   "cell_type": "code",
   "execution_count": null,
   "metadata": {
    "colab": {
     "base_uri": "https://localhost:8080/",
     "height": 281
    },
    "id": "a4yxAZrau3ES",
    "outputId": "24e3f186-0e6a-498a-98c5-7136ba27a59e"
   },
   "outputs": [
    {
     "data": {
      "image/png": "[encoded data removed]",
      "text/plain": [
       "<Figure size 432x288 with 1 Axes>"
      ]
     },
     "metadata": {
      "needs_background": "light"
     },
     "output_type": "display_data"
    }
   ],
   "source": [
    "errors_linear = []\n",
    "errors_forest = []\n",
    "stds_linear = []\n",
    "stds_forest = []\n",
    "\n",
    "errors_linear.append(errors[0][0])\n",
    "errors_forest.append(errors[1][0])\n",
    "stds_linear.append(errors[0][1])\n",
    "stds_forest.append(errors[1][1])\n",
    "\n",
    "\n",
    "plt.errorbar(1, errors_linear, yerr=stds_linear, lolims=True, uplims=True, label='Linear Regression')\n",
    "plt.errorbar(1, errors_forest, yerr=stds_forest, lolims=True, uplims=True, label='Regression Forest')\n",
    "plt.title(\"10 fold Cross-Validation MSE Graph\")\n",
    "plt.legend()\n",
    "plt.show()"
   ]
  },
  {
   "cell_type": "markdown",
   "metadata": {
    "id": "oDow1GUZ8IsV"
   },
   "source": [
    "This is a similar result as in the previous task, we cannot say if our hypotheses is true or not. We also need to check the error with permutation as we did before."
   ]
  },
  {
   "cell_type": "code",
   "execution_count": null,
   "metadata": {
    "id": "CJXtqScBvP_7"
   },
   "outputs": [],
   "source": [
    "error_with_perm = permutation_test(10, data, labels, 3)\n",
    "error_no_perm = cross_validate(10, data, labels)"
   ]
  },
  {
   "cell_type": "code",
   "execution_count": null,
   "metadata": {
    "id": "by9X64pKvU_V"
   },
   "outputs": [],
   "source": [
    "plt.errorbar(n, error_with_perm[:,1,0], yerr=error_with_perm[:,1,1], label=\"regression forest\")\n",
    "plt.plot(n, np.full(len(n), error_no_perm[1,0]), \"r\", label=\"regression forest(no permutation)\")\n",
    "plt.plot(n, np.full(len(n), error_no_perm[1,0]) + np.full(len(n), error_no_perm[1,1]), color=\"g\")\n",
    "plt.plot(n, np.full(len(n), error_no_perm[1,0]) - np.full(len(n), error_no_perm[1,1]), color=\"g\")\n",
    "\n",
    "plt.title(\"Test errors for 19 permutations\")\n",
    "plt.ylabel(\"error\")\n",
    "plt.xlabel(\"# of permutations\")\n",
    "plt.xlim(0,18)\n",
    "plt.legend(bbox_to_anchor=(1, 0.5))\n",
    "plt.show()"
   ]
  },
  {
   "cell_type": "markdown",
   "metadata": {
    "id": "OT9lZoZ18j0l"
   },
   "source": [
    "We do not know why but regression_tree took very long time in this training so we could not show any plots."
   ]
  }
 ],
 "metadata": {
  "colab": {
   "collapsed_sections": [],
   "name": "red_cards.ipynb",
   "provenance": []
  },
  "kernelspec": {
   "display_name": "Python 3",
   "language": "python",
   "name": "python3"
  },
  "language_info": {
   "codemirror_mode": {
    "name": "ipython",
    "version": 3
   },
   "file_extension": ".py",
   "mimetype": "text/x-python",
   "name": "python",
   "nbconvert_exporter": "python",
   "pygments_lexer": "ipython3",
   "version": "3.8.5"
  }
 },
 "nbformat": 4,
 "nbformat_minor": 1
}
